{
 "cells": [
  {
   "cell_type": "code",
   "execution_count": null,
   "id": "initial_id",
   "metadata": {
    "collapsed": true
   },
   "outputs": [],
   "source": [
    "# import necessary packages\n",
    "import pandas as pd\n",
    "import numpy as np\n",
    "from sklearn.model_selection import train_test_split\n",
    "from sklearn.preprocessing import StandardScaler, LabelEncoder, OneHotEncoder\n",
    "from sklearn.linear_model import LogisticRegression\n",
    "from sklearn.svm import SVC\n",
    "from sklearn.metrics import accuracy_score\n",
    "import matplotlib.pyplot as plt\n",
    "import seaborn as sns"
   ]
  },
  {
   "cell_type": "code",
   "outputs": [],
   "source": [
    "data = pd.read_csv('adult.csv')\n",
    "print(data.head())\n",
    "print(data.describe())"
   ],
   "metadata": {
    "collapsed": false
   },
   "id": "a818680c38d371c3",
   "execution_count": null
  },
  {
   "cell_type": "code",
   "outputs": [],
   "source": [
    "# check missing values if any\n",
    "print(data.isnull().sum()) # 0 missing parameters"
   ],
   "metadata": {
    "collapsed": false
   },
   "id": "35ed8f02610a2719",
   "execution_count": null
  },
  {
   "cell_type": "code",
   "outputs": [],
   "source": [
    "# data visualization\n",
    "sns.countplot(x='income', data=data)\n",
    "plt.show()"
   ],
   "metadata": {
    "collapsed": false
   },
   "id": "75eb90b715e71022",
   "execution_count": null
  },
  {
   "cell_type": "code",
   "outputs": [],
   "source": [
    "# encode categorical params/features\n",
    "categorical_features = [col for col in data.columns if data[col].dtype == 'object']\n",
    "le = LabelEncoder()\n",
    "for col in categorical_features:\n",
    "    data[col] = le.fit_transform(data[col])"
   ],
   "metadata": {
    "collapsed": false
   },
   "id": "76ee6c4736dc2f13",
   "execution_count": null
  },
  {
   "cell_type": "code",
   "outputs": [],
   "source": [
    "X = data.drop('income', axis=1)\n",
    "y = data['income']\n",
    "# choose 80% data for learning and randomizing of splits based on number 42\n",
    "X_train, X_test, y_train, y_test = train_test_split(X, y, test_size=0.2, random_state=42)"
   ],
   "metadata": {
    "collapsed": false
   },
   "id": "359a82469ec7a12b",
   "execution_count": null
  },
  {
   "cell_type": "code",
   "outputs": [],
   "source": [
    "# scale features/params\n",
    "scaler = StandardScaler()\n",
    "X_train_scaled = scaler.fit_transform(X_train)\n",
    "X_test_scaled = scaler.transform(X_test)"
   ],
   "metadata": {
    "collapsed": false
   },
   "id": "fafc4ee81a3f0169",
   "execution_count": null
  },
  {
   "cell_type": "code",
   "outputs": [],
   "source": [
    "# train log_reg model\n",
    "lr_model = LogisticRegression()\n",
    "lr_model.fit(X_train_scaled, y_train)"
   ],
   "metadata": {
    "collapsed": false
   },
   "id": "3ccae5d310ad8ff6",
   "execution_count": null
  },
  {
   "cell_type": "code",
   "outputs": [],
   "source": [
    "# train SVM (support vector machine) model using SVC (SV classifier)\n",
    "svm_model = SVC()\n",
    "svm_model.fit(X_train_scaled, y_train)"
   ],
   "metadata": {
    "collapsed": false
   },
   "id": "f8fe9c661a63beae",
   "execution_count": null
  },
  {
   "cell_type": "code",
   "outputs": [],
   "source": [
    "# evaluate models\n",
    "lr_predictions = lr_model.predict(X_test_scaled)\n",
    "svm_predictions = svm_model.predict(X_test_scaled)\n",
    "\n",
    "print(\"Logistic Regression Accuracy:\", accuracy_score(y_test, lr_predictions))\n",
    "print(\"SVM Accuracy:\", accuracy_score(y_test, svm_predictions))"
   ],
   "metadata": {
    "collapsed": false
   },
   "id": "f741d409d6577f9d"
  },
  {
   "cell_type": "code",
   "outputs": [],
   "source": [],
   "metadata": {
    "collapsed": false
   },
   "id": "1fd0d16b1868f4cc"
  }
 ],
 "metadata": {
  "kernelspec": {
   "display_name": "Python 3",
   "language": "python",
   "name": "python3"
  },
  "language_info": {
   "codemirror_mode": {
    "name": "ipython",
    "version": 2
   },
   "file_extension": ".py",
   "mimetype": "text/x-python",
   "name": "python",
   "nbconvert_exporter": "python",
   "pygments_lexer": "ipython2",
   "version": "2.7.6"
  }
 },
 "nbformat": 4,
 "nbformat_minor": 5
}
